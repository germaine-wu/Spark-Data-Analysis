{
 "cells": [
  {
   "cell_type": "code",
   "execution_count": null,
   "id": "6bbda5a3",
   "metadata": {},
   "outputs": [],
   "source": [
    "########################### Workload 1 ###############################\n",
    "\n",
    "## https://www.codenong.com/cs106232534/\n",
    "## https://www.huaweicloud.com/articles/8bf05daa2c052004c67b94aa4f071f87.html\n",
    "## https://zhuanlan.zhihu.com/p/68910426\n",
    "## https://spark.apache.org/docs/2.3.1/api/python/pyspark.html"
   ]
  },
  {
   "cell_type": "code",
   "execution_count": 12,
   "id": "3bd78319",
   "metadata": {},
   "outputs": [],
   "source": [
    "from pyspark import SparkConf, SparkContext\n",
    "spark_conf = SparkConf().setAppName(\"5349_a1\")\n",
    "sc=SparkContext.getOrCreate(spark_conf) \n",
    "text_file = sc.textFile(\"ALLVideos.csv\")"
   ]
  },
  {
   "cell_type": "code",
   "execution_count": 17,
   "id": "e38f719c",
   "metadata": {},
   "outputs": [],
   "source": [
    "from datetime import datetime\n",
    "def extractcolumn(record):\n",
    "    \n",
    "    video_id,trending_date,category,views,likes,dislikes,country = record.split(',')\n",
    "    y, d, m = trending_date.split(\".\")\n",
    "    trending_date = datetime(int(y), int(m),int(d))\n",
    "    return ((video_id,country), (trending_date, likes, dislikes))\n",
    "\n",
    "def findMaxDate(a, b):\n",
    "    if a[0] >= b[0]:\n",
    "        return a\n",
    "    else:\n",
    "        return b\n",
    "\n",
    "def findMinDate(a, b):\n",
    "    if a[0] <= b[0]:\n",
    "        return a\n",
    "    else:\n",
    "        return b\n",
    "\n",
    "def difference(value):\n",
    "    if value[0] == value[1]:\n",
    "        dif = 0\n",
    "    else:\n",
    "        dif = int(value[0][2]) - int(value[1][2]) - (int(value[0][1]) - int(value[1][1]))\n",
    "    return dif\n",
    "\n",
    "def sortByValues(value):\n",
    "    return value[1]\n",
    "\n",
    "\n",
    "def rearrange(content):\n",
    "    x, y, z = content[0][0], content[0][1], content[1]\n",
    "    return (x, z, y)"
   ]
  },
  {
   "cell_type": "code",
   "execution_count": 20,
   "id": "bdd1d8fc",
   "metadata": {},
   "outputs": [],
   "source": [
    "## https://www.jianshu.com/p/af175e66ce99\n",
    "## a: finding the earliest date of each category (reduceByKey)\n",
    "## b: finding the latest date of each category (reduceByKey)\n",
    "## d: (the latest date's dislike - the earliest date's dislike) - (the latest date's like - the earliest date's like)\n",
    "## e: Reverse order\n",
    "## f: take(10)\n",
    "\n",
    "a = text_file.map(extractcolumn) \\\n",
    "             .reduceByKey(findMaxDate)\n",
    "\n",
    "b = text_file.map(extractcolumn) \\\n",
    "             .reduceByKey(findMinDate)\n",
    "\n",
    "c = a.join(b)\n",
    "d = c.mapValues(difference)\n",
    "e = d.sortBy(sortByValues,False)\n",
    "f = e.map(rearrange).take(10)"
   ]
  },
  {
   "cell_type": "code",
   "execution_count": 21,
   "id": "42579917",
   "metadata": {},
   "outputs": [
    {
     "data": {
      "text/plain": [
       "[('QwZT7T-TXT0', 579119, 'GB'),\n",
       " ('QwZT7T-TXT0', 478100, 'US'),\n",
       " ('BEePFpC9qG8', 365862, 'DE'),\n",
       " ('RmZ3DPJQo2k', 334390, 'KR'),\n",
       " ('q8v9MvManKE', 299044, 'IN'),\n",
       " ('pOHQdIDds6s', 160365, 'CA'),\n",
       " ('ZGEoqPpJQLE', 151913, 'RU'),\n",
       " ('84LBjXaeKk4', 134836, 'FR'),\n",
       " ('84LBjXaeKk4', 134834, 'DE'),\n",
       " ('84LBjXaeKk4', 121240, 'RU')]"
      ]
     },
     "execution_count": 21,
     "metadata": {},
     "output_type": "execute_result"
    }
   ],
   "source": [
    "f"
   ]
  },
  {
   "cell_type": "code",
   "execution_count": null,
   "id": "4bb361eb",
   "metadata": {},
   "outputs": [],
   "source": []
  },
  {
   "cell_type": "code",
   "execution_count": null,
   "id": "8e88a21b",
   "metadata": {},
   "outputs": [],
   "source": [
    "########################### Workload 2 ###############################"
   ]
  },
  {
   "cell_type": "code",
   "execution_count": 14,
   "id": "51148932",
   "metadata": {},
   "outputs": [],
   "source": [
    "import numpy as np\n",
    "def splitdata(record):\n",
    "    video_id,trending_date,category,views,likes,dislikes,country = record.split(',')\n",
    "    return ((video_id, category), country)\n",
    "\n",
    "def countCountry(value):\n",
    "    return len(np.unique(list(value)))\n",
    "\n",
    "def reArrangeRDD(content):\n",
    "    video_id, category, count = content[0][0], content[0][1], content[1]\n",
    "    return (category, count)\n",
    "\n",
    "def reArrangeRDD_2(content):\n",
    "    video_id, category, count = content[0][0], content[0][1], content[1]\n",
    "    return (category, video_id)\n",
    "\n",
    "def countID(value):\n",
    "    return len(np.unique(list(value)))\n",
    "\n",
    "def divideNum(value):\n",
    "    return value[0]/value[1]"
   ]
  },
  {
   "cell_type": "code",
   "execution_count": 15,
   "id": "e477f457",
   "metadata": {},
   "outputs": [],
   "source": [
    "## z: calculating the unique contry for each key (video_id, category)\n",
    "## x: counting all num for each key (category)\n",
    "## y: counting all unique video_id for each key (category)\n",
    "## p: combining and dividing (x.value/y.value)\n",
    "\n",
    "z = text_file.map(splitdata).groupByKey().mapValues(countCountry)\n",
    "x = z.map(reArrangeRDD).reduceByKey(lambda a,b:a+b)\n",
    "y = z.map(reArrangeRDD_2).groupByKey().mapValues(countID)\n",
    "\n",
    "p = x.join(y).mapValues(divideNum).sortBy(lambda a:a[1]).collect()"
   ]
  },
  {
   "cell_type": "code",
   "execution_count": 16,
   "id": "796ff9c1",
   "metadata": {},
   "outputs": [
    {
     "data": {
      "text/plain": [
       "[('Trailers', 1.0),\n",
       " ('Autos & Vehicles', 1.0190448285965426),\n",
       " ('News & Politics', 1.0527098256521152),\n",
       " ('Nonprofits & Activism', 1.057344064386318),\n",
       " ('Education', 1.0628976994615762),\n",
       " ('People & Blogs', 1.063884131133748),\n",
       " ('Pets & Animals', 1.0703560703560704),\n",
       " ('Howto & Style', 1.0875230863944183),\n",
       " ('Travel & Events', 1.0929411764705883),\n",
       " ('Gaming', 1.09443748882132),\n",
       " ('Sports', 1.1421507122296848),\n",
       " ('Entertainment', 1.1446024282935856),\n",
       " ('Science & Technology', 1.1626835588828102),\n",
       " ('Film & Animation', 1.1677314564158094),\n",
       " ('Comedy', 1.2142258635136394),\n",
       " ('Movies', 1.25),\n",
       " ('Music', 1.3105183216252136),\n",
       " ('Shows', 1.555045871559633)]"
      ]
     },
     "execution_count": 16,
     "metadata": {},
     "output_type": "execute_result"
    }
   ],
   "source": [
    "p"
   ]
  },
  {
   "cell_type": "code",
   "execution_count": null,
   "id": "5539f104",
   "metadata": {},
   "outputs": [],
   "source": []
  },
  {
   "cell_type": "code",
   "execution_count": 76,
   "id": "d60faf6b",
   "metadata": {},
   "outputs": [],
   "source": [
    "import numpy as np\n",
    "def splitCountry(record):\n",
    "    video_id,trending_date,category,views,likes,dislikes,country = record.split(',')\n",
    "    return (video_id,country)\n",
    "\n",
    "def splitCategory(record):\n",
    "    video_id,trending_date,category,views,likes,dislikes,country = record.split(',')\n",
    "    return (video_id, category)\n",
    "\n",
    "def listValue(value):\n",
    "    return list(value)\n",
    "\n",
    "def countCountry(content):\n",
    "    video_id, category, country = content[0], np.unique(content[1][0]), content[1][1]\n",
    "    countCountry = len(np.unique(list(country)))\n",
    "    return [((video_id, i), countCountry) for i in category]\n",
    "    \n",
    "def reArrangeRDD(content):\n",
    "    video_id, category, count = content[0][0], content[0][1], content[1]\n",
    "    return (category, count)\n",
    "\n",
    "def reArrangeRDD_2(content):\n",
    "    video_id, category, count = content[0][0], content[0][1], content[1]\n",
    "    return (category, video_id)\n",
    "\n",
    "def countID(value):\n",
    "    return len(np.unique(list(value)))\n",
    "\n",
    "def divideNum(value):\n",
    "    return value[0]/value[1]"
   ]
  },
  {
   "cell_type": "code",
   "execution_count": 81,
   "id": "74d20b26",
   "metadata": {},
   "outputs": [],
   "source": [
    "## z: Grouping all country for each video_id    (video_id, list(country))\n",
    "## x: Grouping all category for each video_id    (video_id, list(category))\n",
    "## y: Double count  (video_id, (list(category),list(country))) --> (video_id, category, num(country)))\n",
    "## p: counting all country_num for each key (category)\n",
    "## q: counting all unique video_id for each key (category)\n",
    "## t: combining and dividing (x.value/y.value)\n",
    "\n",
    "z = text_file.map(splitCountry).groupByKey().mapValues(listValue)\n",
    "x = text_file.map(splitCategory).groupByKey().mapValues(listValue)\n",
    "y = x.join(z).flatMap(countCountry)\n",
    "p = y.map(reArrangeRDD).reduceByKey(lambda a,b:a+b)\n",
    "q = y.map(reArrangeRDD_2).groupByKey().mapValues(countID)\n",
    "t = p.join(q).mapValues(divideNum).sortBy(lambda a:a[1]).collect()"
   ]
  },
  {
   "cell_type": "code",
   "execution_count": 83,
   "id": "33b13e6f",
   "metadata": {},
   "outputs": [
    {
     "data": {
      "text/plain": [
       "[('Trailers', 1.0),\n",
       " ('Autos & Vehicles', 1.0190448285965426),\n",
       " ('News & Politics', 1.052844979051223),\n",
       " ('Nonprofits & Activism', 1.057344064386318),\n",
       " ('Education', 1.0628976994615762),\n",
       " ('People & Blogs', 1.0640343760329336),\n",
       " ('Pets & Animals', 1.0707850707850708),\n",
       " ('Howto & Style', 1.0876256925918326),\n",
       " ('Travel & Events', 1.0929411764705883),\n",
       " ('Gaming', 1.0946163477016635),\n",
       " ('Sports', 1.1422245184146431),\n",
       " ('Entertainment', 1.1447534885477444),\n",
       " ('Science & Technology', 1.1626835588828102),\n",
       " ('Film & Animation', 1.1677314564158094),\n",
       " ('Comedy', 1.2144120659156503),\n",
       " ('Movies', 1.25),\n",
       " ('Music', 1.310898044427568),\n",
       " ('Shows', 1.614678899082569)]"
      ]
     },
     "execution_count": 83,
     "metadata": {},
     "output_type": "execute_result"
    }
   ],
   "source": [
    "t"
   ]
  }
 ],
 "metadata": {
  "kernelspec": {
   "display_name": "Python 3",
   "language": "python",
   "name": "python3"
  },
  "language_info": {
   "codemirror_mode": {
    "name": "ipython",
    "version": 3
   },
   "file_extension": ".py",
   "mimetype": "text/x-python",
   "name": "python",
   "nbconvert_exporter": "python",
   "pygments_lexer": "ipython3",
   "version": "3.8.8"
  }
 },
 "nbformat": 4,
 "nbformat_minor": 5
}
