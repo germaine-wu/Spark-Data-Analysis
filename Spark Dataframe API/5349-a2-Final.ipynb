{
 "cells": [
  {
   "cell_type": "code",
   "execution_count": null,
   "id": "29009f6d",
   "metadata": {},
   "outputs": [],
   "source": [
    "###########################  Workload 1 ################################"
   ]
  },
  {
   "cell_type": "code",
   "execution_count": null,
   "id": "767dc612",
   "metadata": {},
   "outputs": [],
   "source": [
    "############## 1.1 import file and build document representation ##############"
   ]
  },
  {
   "cell_type": "code",
   "execution_count": 113,
   "id": "b120a9f1",
   "metadata": {},
   "outputs": [],
   "source": [
    "from pyspark.sql import SparkSession, functions as F\n",
    "from pyspark.sql.types import StringType, ArrayType, NullType, IntegerType, FloatType\n",
    "from pyspark.ml.linalg import Vectors, VectorUDT, DenseVector\n",
    "from pyspark.ml.feature import VectorAssembler, Word2Vec, HashingTF, IDF"
   ]
  },
  {
   "cell_type": "code",
   "execution_count": 141,
   "id": "63788503",
   "metadata": {},
   "outputs": [],
   "source": [
    "# load tweets.json\n",
    "spark = SparkSession.builder.appName(\"5349_a2\").getOrCreate()\n",
    "tweets_url = 'tweets.json'\n",
    "tweets = spark.read.option(\"multiline\",\"true\").json(tweets_url).cache()"
   ]
  },
  {
   "cell_type": "code",
   "execution_count": 146,
   "id": "a66b830b",
   "metadata": {},
   "outputs": [],
   "source": [
    "# create Document Representation\n",
    "df = tweets.select(\"user_id\", F.concat_ws(',',tweets.replyto_id, tweets.retweet_id).alias(\"rp_rt\"))\n",
    "df = df.groupby(\"user_id\").agg(F.collect_list(df.rp_rt).alias(\"Document Representation\"))"
   ]
  },
  {
   "cell_type": "code",
   "execution_count": 147,
   "id": "e70f0b20",
   "metadata": {},
   "outputs": [
    {
     "name": "stdout",
     "output_type": "stream",
     "text": [
      "+----------+---------------------------------------------------------------------------------------------------------+\n",
      "|user_id   |Document Representation                                                                                  |\n",
      "+----------+---------------------------------------------------------------------------------------------------------+\n",
      "|15466159  |[1390027514332991489]                                                                                    |\n",
      "|19652471  |[1390023742194061312]                                                                                    |\n",
      "|30616018  |[1390026843068239874]                                                                                    |\n",
      "|32947971  |[1390027514332991489]                                                                                    |\n",
      "|43301934  |[1390022155350446082]                                                                                    |\n",
      "|51797430  |[1390023742194061312]                                                                                    |\n",
      "|54579715  |[1390027514332991489]                                                                                    |\n",
      "|106456868 |[1390060755995799552]                                                                                    |\n",
      "|109826391 |[1390027514332991489]                                                                                    |\n",
      "|111249239 |[1390023742194061312]                                                                                    |\n",
      "|147126487 |[1390043577703563265]                                                                                    |\n",
      "|157101980 |[1390056156756914182]                                                                                    |\n",
      "|202170318 |[1390071341894750211, 1390047008971444231, 1390022155350446082, 1390062246034698240, 1390068042474917888]|\n",
      "|228531805 |[1390027514332991489]                                                                                    |\n",
      "|257121078 |[1390023742194061312]                                                                                    |\n",
      "|302864870 |[1390050885229817856]                                                                                    |\n",
      "|417365324 |[1390056156756914182, 1390050885229817856]                                                               |\n",
      "|528706065 |[1390067358534864897]                                                                                    |\n",
      "|569489725 |[1390023742194061312]                                                                                    |\n",
      "|1567435968|[1390022155350446082]                                                                                    |\n",
      "+----------+---------------------------------------------------------------------------------------------------------+\n",
      "only showing top 20 rows\n",
      "\n"
     ]
    }
   ],
   "source": [
    "# delete Null value of document Representation\n",
    "def block_transf(a):\n",
    "    for i in a:\n",
    "        if len(i) == 0:\n",
    "            return None\n",
    "        else:\n",
    "            return a\n",
    "none_udf = F.udf(block_transf, ArrayType(StringType()))\n",
    "df = df.select(\"user_id\", none_udf(df['Document Representation']).alias(\"Document Representation\")).na.drop()\n",
    "df.show(20,False)"
   ]
  },
  {
   "cell_type": "code",
   "execution_count": null,
   "id": "e7e47762",
   "metadata": {},
   "outputs": [],
   "source": [
    "############## 1.2 Word2vec ##############"
   ]
  },
  {
   "cell_type": "code",
   "execution_count": 158,
   "id": "04bfb64c",
   "metadata": {},
   "outputs": [
    {
     "name": "stdout",
     "output_type": "stream",
     "text": [
      "+--------+-----------------------+--------------------+\n",
      "| user_id|Document Representation|            word2vec|\n",
      "+--------+-----------------------+--------------------+\n",
      "|15466159|   [1390027514332991...|[0.08526910096406...|\n",
      "|19652471|   [1390023742194061...|[-7.6902564615011...|\n",
      "|30616018|   [1390026843068239...|[0.00153636932373...|\n",
      "|32947971|   [1390027514332991...|[0.08526910096406...|\n",
      "|43301934|   [1390022155350446...|[-9.3807739904150...|\n",
      "+--------+-----------------------+--------------------+\n",
      "only showing top 5 rows\n",
      "\n"
     ]
    }
   ],
   "source": [
    "# feature extractor word2Vec\n",
    "w2v = Word2Vec(vectorSize=100, inputCol=\"Document Representation\", outputCol= \"word2vec\")\n",
    "w2vmodel = w2v.fit(df)\n",
    "df_w2v = w2vmodel.transform(df)\n",
    "df_w2v.show(5)"
   ]
  },
  {
   "cell_type": "code",
   "execution_count": 159,
   "id": "38abd093",
   "metadata": {},
   "outputs": [],
   "source": [
    "# find target user\n",
    "user_w2v = df_w2v.where(\"user_id == 202170318\").collect()\n",
    "for i in user_w2v:\n",
    "    tweet_w2v = i['word2vec']"
   ]
  },
  {
   "cell_type": "code",
   "execution_count": 160,
   "id": "2cbc8e73",
   "metadata": {},
   "outputs": [],
   "source": [
    "# find top five similarity user \n",
    "top_similarity_w2v = df_w2v.select(\"user_id\",\"word2vec\").rdd\\\n",
    "        .mapValues(lambda a: DenseVector(a).dot(tweet_w2v)/(DenseVector(a).norm(2)*tweet_w2v.norm(2)))\\\n",
    "        .sortBy(lambda x: x[1], False).take(6)"
   ]
  },
  {
   "cell_type": "code",
   "execution_count": 161,
   "id": "d6b24ba6",
   "metadata": {},
   "outputs": [
    {
     "data": {
      "text/plain": [
       "[(1318440355, 0.8149268487958068),\n",
       " (40496226, 0.8149268487958068),\n",
       " (14250699, 0.8149268487958068),\n",
       " (3016373503, 0.8149268487958068),\n",
       " (3101168904, 0.8149268487958068)]"
      ]
     },
     "execution_count": 161,
     "metadata": {},
     "output_type": "execute_result"
    }
   ],
   "source": [
    "top_similarity_w2v[1:6]"
   ]
  },
  {
   "cell_type": "code",
   "execution_count": null,
   "id": "8a6d84cf",
   "metadata": {},
   "outputs": [],
   "source": []
  },
  {
   "cell_type": "code",
   "execution_count": null,
   "id": "baa60121",
   "metadata": {},
   "outputs": [],
   "source": [
    "############## 1.3 TF-IDF ##############"
   ]
  },
  {
   "cell_type": "code",
   "execution_count": 162,
   "id": "8558e571",
   "metadata": {},
   "outputs": [
    {
     "name": "stdout",
     "output_type": "stream",
     "text": [
      "+--------+-----------------------+----------------+--------------------+\n",
      "| user_id|Document Representation|     rawFeatures|              tf_idf|\n",
      "+--------+-----------------------+----------------+--------------------+\n",
      "|15466159|   [1390027514332991...|(100,[36],[1.0])|(100,[36],[1.1972...|\n",
      "|19652471|   [1390023742194061...|(100,[81],[1.0])|(100,[81],[1.3429...|\n",
      "|30616018|   [1390026843068239...|(100,[96],[1.0])|(100,[96],[6.3039...|\n",
      "|32947971|   [1390027514332991...|(100,[36],[1.0])|(100,[36],[1.1972...|\n",
      "|43301934|   [1390022155350446...|(100,[38],[1.0])|(100,[38],[2.4884...|\n",
      "+--------+-----------------------+----------------+--------------------+\n",
      "only showing top 5 rows\n",
      "\n"
     ]
    }
   ],
   "source": [
    "hashingTF = HashingTF(inputCol=\"Document Representation\", outputCol=\"rawFeatures\", numFeatures=100) \n",
    "featurizedData = hashingTF.transform(df)\n",
    "\n",
    "idf = IDF(inputCol=\"rawFeatures\", outputCol=\"tf_idf\")\n",
    "idfModel = idf.fit(featurizedData)\n",
    "df_tfidf = idfModel.transform(featurizedData)\n",
    "df_tfidf.show(5)"
   ]
  },
  {
   "cell_type": "code",
   "execution_count": 163,
   "id": "1ac29868",
   "metadata": {},
   "outputs": [],
   "source": [
    "# find target user\n",
    "user_tfidf = df_tfidf.where(\"user_id == 202170318\").collect()\n",
    "for i in user_tfidf:\n",
    "    tweet_tfidf = i['tf_idf']"
   ]
  },
  {
   "cell_type": "code",
   "execution_count": 164,
   "id": "a00368d7",
   "metadata": {},
   "outputs": [],
   "source": [
    "# find top five similarity user \n",
    "top_similarity_tfidf = df_tfidf.select(\"user_id\",\"tf_idf\").rdd\\\n",
    "        .mapValues(lambda a: DenseVector(a).dot(tweet_tfidf)/(DenseVector(a).norm(2)*tweet_tfidf.norm(2)))\\\n",
    "        .sortBy(lambda x: x[1], False).take(6)"
   ]
  },
  {
   "cell_type": "code",
   "execution_count": 165,
   "id": "8a68aa8e",
   "metadata": {},
   "outputs": [
    {
     "data": {
      "text/plain": [
       "[(202170318, 1.0000000000000002),\n",
       " (1016974586, 0.5939757471583065),\n",
       " (712790648, 0.5562358036167038),\n",
       " (521300849, 0.5562358036167038),\n",
       " (429898007, 0.5562358036167038),\n",
       " (14202167, 0.5562358036167038),\n",
       " (17479538, 0.5562358036167038),\n",
       " (110504574, 0.5562358036167038),\n",
       " (918929317, 0.5562358036167038),\n",
       " (727437799897468928, 0.5562358036167038),\n",
       " (216123608, 0.5562358036167038),\n",
       " (65091071, 0.5562358036167038),\n",
       " (2713172484, 0.5562358036167038),\n",
       " (2903825767, 0.5562358036167038),\n",
       " (1234011788401725440, 0.5562358036167038),\n",
       " (985849749319356417, 0.5562358036167038),\n",
       " (35124792, 0.5562358036167038),\n",
       " (16422863, 0.5562358036167038),\n",
       " (3368587707, 0.5562358036167038),\n",
       " (321084701, 0.5562358036167038)]"
      ]
     },
     "execution_count": 165,
     "metadata": {},
     "output_type": "execute_result"
    }
   ],
   "source": [
    "df_tfidf.select(\"user_id\",\"tf_idf\").rdd\\\n",
    "        .mapValues(lambda a: DenseVector(a).dot(tweet_tfidf)/(DenseVector(a).norm(2)*tweet_tfidf.norm(2)))\\\n",
    "        .sortBy(lambda x: x[1], False).take(20)"
   ]
  },
  {
   "cell_type": "code",
   "execution_count": 166,
   "id": "3b024ecb",
   "metadata": {},
   "outputs": [
    {
     "data": {
      "text/plain": [
       "[(1016974586, 0.5939757471583065),\n",
       " (712790648, 0.5562358036167038),\n",
       " (521300849, 0.5562358036167038),\n",
       " (429898007, 0.5562358036167038),\n",
       " (14202167, 0.5562358036167038)]"
      ]
     },
     "execution_count": 166,
     "metadata": {},
     "output_type": "execute_result"
    }
   ],
   "source": [
    "top_similarity_tfidf[1:6]"
   ]
  },
  {
   "cell_type": "code",
   "execution_count": null,
   "id": "cf7fe87b",
   "metadata": {},
   "outputs": [],
   "source": []
  },
  {
   "cell_type": "code",
   "execution_count": null,
   "id": "7ff5c22d",
   "metadata": {},
   "outputs": [],
   "source": []
  },
  {
   "cell_type": "code",
   "execution_count": null,
   "id": "56b35d04",
   "metadata": {},
   "outputs": [],
   "source": [
    "###########################  Workload 2 ################################"
   ]
  },
  {
   "cell_type": "code",
   "execution_count": 112,
   "id": "b01e6b73",
   "metadata": {},
   "outputs": [],
   "source": [
    "from pyspark.ml.recommendation import ALS\n",
    "from pyspark.sql import Row, Catalog\n",
    "from pyspark.sql.types import ArrayType, IntegerType\n",
    "from pyspark.sql import functions as F\n",
    "from pyspark.ml.feature import StringIndexer, IndexToString"
   ]
  },
  {
   "cell_type": "code",
   "execution_count": 127,
   "id": "1b85d886",
   "metadata": {},
   "outputs": [
    {
     "name": "stdout",
     "output_type": "stream",
     "text": [
      "+-------------------+-------------------+------+\n",
      "|               user|               item|rating|\n",
      "+-------------------+-------------------+------+\n",
      "| 739595086044876800|         2207905453|     1|\n",
      "|         4464358941|             807095|     1|\n",
      "| 728324764113211394|1349149096909668363|     1|\n",
      "|          186593993|          133081348|     1|\n",
      "|1179209439087333376|           26574283|     1|\n",
      "+-------------------+-------------------+------+\n",
      "only showing top 5 rows\n",
      "\n"
     ]
    },
    {
     "data": {
      "text/plain": [
       "<bound method DataFrame.printSchema of DataFrame[user: bigint, item: bigint, rating: bigint]>"
      ]
     },
     "execution_count": 127,
     "metadata": {},
     "output_type": "execute_result"
    }
   ],
   "source": [
    "df2 = tweets.select(tweets[\"user_id\"].alias(\"user\"), F.explode(tweets['user_mentions.id']).alias('item'))\\\n",
    "                .groupBy([\"user\",\"item\"]).count()\n",
    "df2 = df2.select(\"user\",\"item\",df2[\"count\"].alias(\"rating\"))\n",
    "df2.show(5)\n",
    "df2.printSchema"
   ]
  },
  {
   "cell_type": "code",
   "execution_count": 128,
   "id": "55d6eae7",
   "metadata": {},
   "outputs": [
    {
     "name": "stdout",
     "output_type": "stream",
     "text": [
      "+-------------------+-------------------+------+------+------+\n",
      "|               user|               item|rating|user_2|item_2|\n",
      "+-------------------+-------------------+------+------+------+\n",
      "| 739595086044876800|         2207905453|     1|  22.0| 512.0|\n",
      "|         4464358941|             807095|     1| 731.0|   0.0|\n",
      "| 728324764113211394|1349149096909668363|     1|7045.0|   9.0|\n",
      "|          186593993|          133081348|     1|3605.0|   6.0|\n",
      "|1179209439087333376|           26574283|     1|1690.0|   1.0|\n",
      "|          807532302|           19881665|     1|7407.0|  33.0|\n",
      "|1385343098566307841|1349149096909668363|     1| 494.0|   9.0|\n",
      "|1289041202487021571|           15115280|     1|2282.0|   5.0|\n",
      "|          226035819|          133081348|     1|4040.0|   6.0|\n",
      "|          288840037|           15115280|     1|4895.0|   5.0|\n",
      "|          357832718|            4970411|     1|5603.0|  24.0|\n",
      "|         4586004016|           26574283|     1| 735.0|   1.0|\n",
      "|          139668106|          191807697|     1|2925.0|   8.0|\n",
      "|1242295050362478593|             807095|     1|1987.0|   0.0|\n",
      "|1259969384665296896|          133081348|     1| 156.0|   6.0|\n",
      "|          480875170|           26574283|     1|   1.0|   1.0|\n",
      "|          582996784|           36326893|     1|  89.0|  80.0|\n",
      "|         1386042740|           13049362|     1|2893.0| 114.0|\n",
      "|          823702368|           13850422|     1|7509.0|  28.0|\n",
      "|           25255543|             807095|     1|4434.0|   0.0|\n",
      "+-------------------+-------------------+------+------+------+\n",
      "only showing top 20 rows\n",
      "\n"
     ]
    }
   ],
   "source": [
    "user_indexer = StringIndexer(inputCol='user', outputCol='user_2')\n",
    "user_model = user_indexer.fit(df2)\n",
    "inderer = user_model.transform(df2)\n",
    "\n",
    "item_indexer = StringIndexer(inputCol='item', outputCol='item_2')\n",
    "item_model = item_indexer.fit(inderer)\n",
    "inderer_2 = item_model.transform(inderer)\n",
    "inderer_2.show()"
   ]
  },
  {
   "cell_type": "code",
   "execution_count": 132,
   "id": "cb363fb7",
   "metadata": {},
   "outputs": [
    {
     "name": "stdout",
     "output_type": "stream",
     "text": [
      "+------+--------------------+\n",
      "|user_2|              item_2|\n",
      "+------+--------------------+\n",
      "|  1580|[72, 141, 42, 128...|\n",
      "|  4900|[82, 33, 595, 206...|\n",
      "|  5300|[82, 33, 595, 206...|\n",
      "|  6620|[82, 33, 595, 206...|\n",
      "|  7240|[158, 82, 85, 252...|\n",
      "|  7340|[239, 196, 105, 5...|\n",
      "|  7880|[72, 141, 42, 128...|\n",
      "|   471|[47, 72, 85, 141,...|\n",
      "|  1591|[82, 33, 595, 206...|\n",
      "|  4101|[82, 33, 595, 206...|\n",
      "|  1342|[82, 33, 595, 206...|\n",
      "|  2122|[82, 33, 595, 206...|\n",
      "|  2142|[173, 106, 124, 1...|\n",
      "|  7982|[72, 141, 42, 128...|\n",
      "|   463|[72, 141, 42, 128...|\n",
      "|   833|[33, 115, 491, 22...|\n",
      "|  5803|[99, 51, 30, 84, ...|\n",
      "|  7253|[72, 141, 42, 128...|\n",
      "|  7833|[150, 93, 168, 65...|\n",
      "|  7993|[72, 141, 42, 128...|\n",
      "+------+--------------------+\n",
      "only showing top 20 rows\n",
      "\n"
     ]
    }
   ],
   "source": [
    "als = ALS(userCol='user_2', itemCol='item_2',numItemBlocks=5, regParam=0.01)\n",
    "model = als.fit(inderer_2)\n",
    "\n",
    "# recommand 5 items for each user\n",
    "recommend = model.recommendForAllUsers(5)\n",
    "recommendations = recommend.select(\"user_2\",\"recommendations.item_2\")\n",
    "recommendations.show()"
   ]
  },
  {
   "cell_type": "code",
   "execution_count": 144,
   "id": "a0d9393b",
   "metadata": {},
   "outputs": [
    {
     "name": "stdout",
     "output_type": "stream",
     "text": [
      "+-------------------+-----------------------------------------------------------------+\n",
      "|user               |item                                                             |\n",
      "+-------------------+-----------------------------------------------------------------+\n",
      "|492247078          |[14335586, 231510077, 33584794, 12133382, 738767160395321345]    |\n",
      "|315386202          |[587591389, 398878622, 138203134, 14434063, 29780473]            |\n",
      "|602280399          |[587591389, 398878622, 138203134, 14434063, 29780473]            |\n",
      "|1339354662923808780|[587591389, 398878622, 138203134, 14434063, 29780473]            |\n",
      "|828160430          |[14260960, 138203134, 398878622, 15907183, 9300262]              |\n",
      "|1372166406972661770|[327449246, 94482117, 14167059, 91905327, 22053725]              |\n",
      "|65201417           |[65201417, 17154865, 807357676300730368, 4970411, 15907183]      |\n",
      "|17922098           |[20759034, 1643123766, 947605221416538112, 19881665, 298217736]  |\n",
      "|46103045           |[29780473, 587591389, 1078401427347857408, 398878622, 138203134] |\n",
      "|69721782           |[449027230, 19881665, 3240396234, 621064274, 298217736]          |\n",
      "|1129048802017579008|[587591389, 398878622, 138203134, 14434063, 29780473]            |\n",
      "|1054600164         |[587591389, 398878622, 138203134, 29780473, 14434063]            |\n",
      "|745747580210970624 |[587591389, 398878622, 138203134, 14434063, 29780473]            |\n",
      "|836437378919202817 |[587591389, 398878622, 138203134, 14434063, 29780473]            |\n",
      "|4474623749         |[24259259, 449027230, 1078401427347857408, 1656958189, 198118653]|\n",
      "|78347563           |[587591389, 398878622, 138203134, 14434063, 29780473]            |\n",
      "|2991866248         |[587591389, 449027230, 298217736, 14434063, 398878622]           |\n",
      "|506907235          |[449027230, 19881665, 3240396234, 621064274, 298217736]          |\n",
      "|201990502          |[587591389, 398878622, 138203134, 14434063, 29780473]            |\n",
      "|283706081          |[24259259, 13171622, 94482117, 1353769946556325889, 90670300]    |\n",
      "+-------------------+-----------------------------------------------------------------+\n",
      "only showing top 20 rows\n",
      "\n"
     ]
    }
   ],
   "source": [
    "# transform user_2 to user\n",
    "inverter = IndexToString(inputCol=\"user_2\", outputCol=\"user\", labels=user_model.labels)\n",
    "itd = inverter.transform(recommendations)\n",
    "\n",
    "# transform item_2 to item\n",
    "itd_2 = itd.select(\"user\", F.explode(itd['item_2']).alias('item_2'))\n",
    "\n",
    "inverter_2 = IndexToString(inputCol=\"item_2\", outputCol=\"item\", labels=item_model.labels)\n",
    "itd_3 = inverter_2.transform(itd_2)\n",
    "\n",
    "# The final results\n",
    "itd_4 = itd_3.select(\"user\",\"item\").groupBy(\"user\").agg(F.collect_list(\"item\"))\n",
    "recommand_users = itd_4.select(\"user\", itd_4['collect_list(item)'].alias('item'))\n",
    "recommand_users.show(20,False)"
   ]
  }
 ],
 "metadata": {
  "kernelspec": {
   "display_name": "Python 3",
   "language": "python",
   "name": "python3"
  },
  "language_info": {
   "codemirror_mode": {
    "name": "ipython",
    "version": 3
   },
   "file_extension": ".py",
   "mimetype": "text/x-python",
   "name": "python",
   "nbconvert_exporter": "python",
   "pygments_lexer": "ipython3",
   "version": "3.8.8"
  }
 },
 "nbformat": 4,
 "nbformat_minor": 5
}
